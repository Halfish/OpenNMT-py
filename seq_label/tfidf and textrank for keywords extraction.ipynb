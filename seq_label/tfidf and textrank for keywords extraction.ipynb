{
 "cells": [
  {
   "cell_type": "code",
   "execution_count": 2,
   "metadata": {},
   "outputs": [],
   "source": [
    "import jieba\n",
    "import jieba.analyse\n",
    "\n",
    "jieba.load_userdict('../../dataset/sogou.dic')"
   ]
  },
  {
   "cell_type": "code",
   "execution_count": 3,
   "metadata": {},
   "outputs": [
    {
     "name": "stdout",
     "output_type": "stream",
     "text": [
      "CPU times: user 10 µs, sys: 0 ns, total: 10 µs\n",
      "Wall time: 18.6 µs\n"
     ]
    }
   ],
   "source": [
    "%%time\n",
    "def topNkeywords(N=20, filename='../../dataset/keywords_train.txt', keywords_fn=jieba.analyse.extract_tags):\n",
    "    top_keywords = []\n",
    "    actual_keywords = []\n",
    "    for i, line in enumerate(open(filename)):\n",
    "        if (i+1) % 100000 == 0:\n",
    "            break\n",
    "        summary, text, keywords = line.strip().split('\\t')\n",
    "        topK = keywords_fn(text, topK=N)\n",
    "        top_keywords.append(topK)\n",
    "        actual_keywords.append(keywords.split(','))\n",
    "    return top_keywords, actual_keywords\n",
    "\n",
    "#top_keywords, actual_keywords = topNkeywords()\n",
    "#print(len(top_keywords))\n",
    "#print(len(actual_keywords))"
   ]
  },
  {
   "cell_type": "code",
   "execution_count": 17,
   "metadata": {
    "collapsed": true
   },
   "outputs": [],
   "source": [
    "def get_result(top_keywords, actual_keywords, n=5):\n",
    "    assert len(top_keywords) == len(actual_keywords), 'emm...'\n",
    "    #assert n <= len(top_keywords[0])\n",
    "    results = {'precision':[], 'recall':[], 'f1':[]}\n",
    "    for top, actual in zip(top_keywords, actual_keywords):\n",
    "        if len(top) == 0 or len(actual) == 0:\n",
    "            continue\n",
    "        top = top[:n]\n",
    "        correct = len(set(top) & set(actual))\n",
    "        precision = correct / len(top)\n",
    "        recall = correct / len(actual)\n",
    "        f1 = 2 * precision * recall / (precision + recall + 1e-6)\n",
    "        results['precision'].append(precision)\n",
    "        results['recall'].append(recall)\n",
    "        results['f1'].append(f1)\n",
    "    return results\n",
    "    \n",
    "#results = get_result(top_keywords, actual_keywords)"
   ]
  },
  {
   "cell_type": "code",
   "execution_count": 22,
   "metadata": {
    "collapsed": true
   },
   "outputs": [],
   "source": [
    "# TFIDF 或者 TextRank 提取关键词的结果\n",
    "def keywords_results(top_keywords, actual_keywords):\n",
    "    total_results = {'precision':[], 'recall':[], 'f1':[], 'N':[]}\n",
    "    print('n\\tprecision\\trecall\\tf1')\n",
    "    for n in range(1,21):\n",
    "        results = get_result(top_keywords, actual_keywords, n=n)\n",
    "        precision = sum(results['precision']) / len(results['precision'])\n",
    "        recall = sum(results['recall']) / len(results['recall'])\n",
    "        f1 = sum(results['f1']) / len(results['f1'])\n",
    "        #print('n = %d, precision = %.4f, recall = %.4f, f1 = %.4f' % (n, precision, recall, f1))\n",
    "        print('%d %.4f %.4f %.4f' % (n, precision, recall, f1))\n",
    "        total_results['precision'].append(precision)\n",
    "        total_results['recall'].append(recall)\n",
    "        total_results['f1'].append(f1)\n",
    "        total_results['N'].append(n)\n",
    "    return total_results"
   ]
  },
  {
   "cell_type": "code",
   "execution_count": 6,
   "metadata": {},
   "outputs": [
    {
     "name": "stdout",
     "output_type": "stream",
     "text": [
      "CPU times: user 1min 8s, sys: 448 ms, total: 1min 9s\n",
      "Wall time: 1min 9s\n"
     ]
    }
   ],
   "source": [
    "%%time\n",
    "tfidf_top_keywords, tfidf_actual_keywords = topNkeywords(N=20, \n",
    "                                                         filename='../../dataset//keywords_train.txt', \n",
    "                                                         keywords_fn=jieba.analyse.extract_tags)"
   ]
  },
  {
   "cell_type": "code",
   "execution_count": 23,
   "metadata": {},
   "outputs": [
    {
     "name": "stdout",
     "output_type": "stream",
     "text": [
      "n\tprecision\trecall\tf1\n",
      "1 0.4818 0.1262 0.1878\n",
      "2 0.4039 0.2033 0.2513\n",
      "3 0.3449 0.2545 0.2718\n",
      "4 0.3017 0.2920 0.2758\n",
      "5 0.2708 0.3241 0.2750\n",
      "6 0.2481 0.3534 0.2725\n",
      "7 0.2305 0.3804 0.2692\n",
      "8 0.2169 0.4069 0.2661\n",
      "9 0.2062 0.4328 0.2635\n",
      "10 0.1973 0.4582 0.2610\n",
      "11 0.1901 0.4831 0.2588\n",
      "12 0.1840 0.5082 0.2570\n",
      "13 0.1786 0.5324 0.2549\n",
      "14 0.1735 0.5549 0.2525\n",
      "15 0.1690 0.5773 0.2502\n",
      "16 0.1648 0.5981 0.2477\n",
      "17 0.1608 0.6184 0.2451\n",
      "18 0.1570 0.6377 0.2423\n",
      "19 0.1535 0.6562 0.2396\n",
      "20 0.1500 0.6733 0.2365\n"
     ]
    }
   ],
   "source": [
    "tfidf_results = keywords_results(tfidf_top_keywords, tfidf_actual_keywords)"
   ]
  },
  {
   "cell_type": "code",
   "execution_count": 12,
   "metadata": {},
   "outputs": [
    {
     "name": "stdout",
     "output_type": "stream",
     "text": [
      "CPU times: user 7min 19s, sys: 1.03 s, total: 7min 20s\n",
      "Wall time: 7min 20s\n"
     ]
    }
   ],
   "source": [
    "%%time\n",
    "top_keywords, actual_keywords = topNkeywords(N=20, filename='../../dataset/keywords_train.txt', keywords_fn=jieba.analyse.textrank)"
   ]
  },
  {
   "cell_type": "code",
   "execution_count": 18,
   "metadata": {},
   "outputs": [
    {
     "name": "stdout",
     "output_type": "stream",
     "text": [
      "n\tprecision\trecall\tf1\n",
      "1\t0.3989\t0.0993\t0.1500\n",
      "2\t0.3294\t0.1592\t0.2001\n",
      "3\t0.2810\t0.2001\t0.2176\n",
      "4\t0.2462\t0.2307\t0.2221\n",
      "5\t0.2216\t0.2573\t0.2226\n",
      "6\t0.2034\t0.2814\t0.2213\n",
      "7\t0.1899\t0.3045\t0.2199\n",
      "8\t0.1794\t0.3269\t0.2184\n",
      "9\t0.1711\t0.3492\t0.2171\n",
      "10\t0.1645\t0.3710\t0.2159\n",
      "11\t0.1591\t0.3925\t0.2150\n",
      "12\t0.1547\t0.4131\t0.2141\n",
      "13\t0.1510\t0.4326\t0.2133\n",
      "14\t0.1480\t0.4517\t0.2127\n",
      "15\t0.1455\t0.4697\t0.2122\n",
      "16\t0.1437\t0.4866\t0.2119\n",
      "17\t0.1421\t0.5016\t0.2117\n",
      "18\t0.1410\t0.5146\t0.2115\n",
      "19\t0.1401\t0.5260\t0.2115\n",
      "20\t0.1396\t0.5357\t0.2116\n"
     ]
    }
   ],
   "source": [
    "textrank_results = keywords_results(top_keywords, actual_keywords)"
   ]
  },
  {
   "cell_type": "code",
   "execution_count": 25,
   "metadata": {},
   "outputs": [
    {
     "name": "stdout",
     "output_type": "stream",
     "text": [
      "10151\n",
      "小姐 中信证券 世界 投行 娶 何许人 张梓琳 迎娶 新郎 员工 高圆圆 追 有戏 聂磊 引爆 副总裁 圈 eng1 高级 债务 资本 瞬间 名叫 消息 市场部 爆料 eng0 人士 感叹 ) 也 ( 到 。 我 ， 的 有 能 ” 啊 ？ 据 “ 目前 是\n",
      "中国 镜子 设计 彭丽媛 服装 设计师 马可说 里 正视 服装服饰 理解 首次 需求 专人 尝试 女士 适合 符合 审美 对象 提供 价值观 特定 前提 ， 我 这次 其 为 了 自己 的 人 对 。 可以 个人 … 部分 、 所 是 下\n",
      "10151\n",
      "[['投行', '员工', '世界', '张梓琳', '小姐', '迎娶'], ['中国', '正视', '彭丽媛', '镜子', '设计师', '里']]\n"
     ]
    }
   ],
   "source": [
    "keywords = [line.strip().split(' ') for line in open('valid.keywords.txt')]\n",
    "print(len(keywords))\n",
    "print('\\n'.join([' '.join(s) for s in keywords[-2:]]))\n",
    "\n",
    "labels = []\n",
    "i = 0\n",
    "for line in open('../weibo/src-valid.keywords.txt'): \n",
    "    label = line.strip().split(' ')\n",
    "    label = [w[:-2] for w in label if w[-1] == '1']\n",
    "    label = list(set(label))\n",
    "    labels.append(label)\n",
    "    i = i + 1\n",
    "    if i == len(keywords):\n",
    "        break\n",
    "print(len(labels))\n",
    "print(labels[-2:])"
   ]
  },
  {
   "cell_type": "code",
   "execution_count": 26,
   "metadata": {},
   "outputs": [
    {
     "name": "stdout",
     "output_type": "stream",
     "text": [
      "n\tprecision\trecall\tf1\n",
      "1 0.6926 0.2416 0.3324\n",
      "2 0.6071 0.3982 0.4429\n",
      "3 0.5376 0.5056 0.4808\n",
      "4 0.4830 0.5881 0.4910\n",
      "5 0.4393 0.6549 0.4886\n",
      "6 0.4041 0.7114 0.4808\n",
      "7 0.3735 0.7573 0.4683\n",
      "8 0.3466 0.7954 0.4535\n",
      "9 0.3221 0.8258 0.4366\n",
      "10 0.3010 0.8526 0.4205\n",
      "11 0.2818 0.8735 0.4037\n",
      "12 0.2648 0.8923 0.3879\n",
      "13 0.2495 0.9076 0.3726\n",
      "14 0.2359 0.9216 0.3583\n",
      "15 0.2233 0.9326 0.3444\n",
      "16 0.2123 0.9433 0.3317\n",
      "17 0.2019 0.9513 0.3193\n",
      "18 0.1925 0.9589 0.3079\n",
      "19 0.1839 0.9654 0.2970\n",
      "20 0.1759 0.9712 0.2868\n"
     ]
    }
   ],
   "source": [
    "lstm_results = keywords_results(keywords, labels)"
   ]
  },
  {
   "cell_type": "code",
   "execution_count": 27,
   "metadata": {},
   "outputs": [
    {
     "data": {
      "image/png": "[encoded data removed]",
      "text/plain": [
       "<matplotlib.figure.Figure at 0x7f53ba34b908>"
      ]
     },
     "metadata": {},
     "output_type": "display_data"
    }
   ],
   "source": [
    "import matplotlib.pyplot as plt\n",
    "%matplotlib inline\n",
    "fig = plt.figure()\n",
    "plt.plot(tfidf_results['precision'], tfidf_results['recall'],'bs-', label='TF-IDF')\n",
    "plt.plot(textrank_results['precision'], textrank_results['recall'],'gs-', label='TextRank')\n",
    "plt.plot(lstm_results['precision'], lstm_results['recall'],'rs-', label='Bi-LSTM-CRF')\n",
    "plt.xlabel('Precision')\n",
    "plt.ylabel('Recall')\n",
    "plt.legend()\n",
    "plt.show()"
   ]
  }
 ],
 "metadata": {
  "kernelspec": {
   "display_name": "Python 3",
   "language": "python",
   "name": "python3"
  },
  "language_info": {
   "codemirror_mode": {
    "name": "ipython",
    "version": 3
   },
   "file_extension": ".py",
   "mimetype": "text/x-python",
   "name": "python",
   "nbconvert_exporter": "python",
   "pygments_lexer": "ipython3",
   "version": "3.6.3"
  }
 },
 "nbformat": 4,
 "nbformat_minor": 2
}
